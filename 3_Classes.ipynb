{
  "cells": [
    {
      "cell_type": "code",
      "execution_count": 1,
      "metadata": {
        "colab": {
          "base_uri": "https://localhost:8080/"
        },
        "id": "U9nZEP5X8SE4",
        "outputId": "5d42d304-1d8e-4a46-bfab-b82c806b8fca"
      },
      "outputs": [
        {
          "name": "stdout",
          "output_type": "stream",
          "text": [
            "Mounted at /content/drive\n"
          ]
        }
      ],
      "source": [
        "# Load the Drive helper and mount\n",
        "from google.colab import drive\n",
        "drive.mount('/content/drive')"
      ]
    },
    {
      "cell_type": "code",
      "execution_count": 2,
      "metadata": {
        "id": "1iV9-apB8Uhi"
      },
      "outputs": [],
      "source": [
        "import tensorflow as tf\n",
        "from tensorflow import keras\n",
        "from tensorflow.keras import layers"
      ]
    },
    {
      "cell_type": "code",
      "execution_count": 3,
      "metadata": {
        "colab": {
          "base_uri": "https://localhost:8080/"
        },
        "id": "1rmVvwd88aRu",
        "outputId": "0705e34f-95d9-4f97-a240-a81a5ad8f7d1"
      },
      "outputs": [
        {
          "name": "stdout",
          "output_type": "stream",
          "text": [
            "Found 5182 files belonging to 3 classes.\n",
            "Using 4146 files for training.\n",
            "Found 5182 files belonging to 3 classes.\n",
            "Using 1036 files for validation.\n"
          ]
        }
      ],
      "source": [
        "# Create train and validation datasets\n",
        "path = '/content/drive/MyDrive/Colab Notebooks/hector/3 categories'\n",
        "image_size=(180, 150)\n",
        "batch_size=32\n",
        "\n",
        "train_ds = tf.keras.preprocessing.image_dataset_from_directory(\n",
        "  path,\n",
        "  validation_split=0.2,\n",
        "  subset=\"training\",\n",
        "  seed=1337,\n",
        "  image_size=image_size,\n",
        "  batch_size=batch_size)\n",
        "\n",
        "val_ds = tf.keras.preprocessing.image_dataset_from_directory(\n",
        "  path,\n",
        "  validation_split=0.2,\n",
        "  subset=\"validation\",\n",
        "  seed=1337,\n",
        "  image_size=image_size,\n",
        "  batch_size=batch_size)"
      ]
    },
    {
      "cell_type": "code",
      "execution_count": 4,
      "metadata": {
        "id": "fuD7r2KY8jVd"
      },
      "outputs": [],
      "source": [
        "def make_model(input_shape, num_classes):\n",
        "    inputs = keras.Input(shape=input_shape)\n",
        "    x = tf.keras.layers.experimental.preprocessing.Rescaling(1.0 / 255)(inputs)\n",
        "    x = layers.Conv2D(128, 3, strides=2, padding=\"same\")(x)\n",
        "    x = layers.BatchNormalization()(x)\n",
        "    x = layers.Activation(\"relu\")(x)\n",
        "    previous_block_activation = x  # Set aside residual\n",
        "    for size in [256, 512, 728]:\n",
        "        x = layers.Activation(\"relu\")(x)\n",
        "        x = layers.SeparableConv2D(size, 3, padding=\"same\")(x)\n",
        "        x = layers.BatchNormalization()(x)\n",
        "        x = layers.Activation(\"relu\")(x)\n",
        "        x = layers.SeparableConv2D(size, 3, padding=\"same\")(x)\n",
        "        x = layers.BatchNormalization()(x)\n",
        "        x = layers.MaxPooling2D(3, strides=2, padding=\"same\")(x)\n",
        "\n",
        "        residual = layers.Conv2D(size, 1, strides=2, padding=\"same\")(\n",
        "            previous_block_activation\n",
        "        )\n",
        "        x = layers.add([x, residual])  # Add back residual\n",
        "        previous_block_activation = x  # Set aside next residual\n",
        "\n",
        "    x = layers.SeparableConv2D(1024, 3, padding=\"same\")(x)\n",
        "    x = layers.BatchNormalization()(x)\n",
        "    x = layers.Activation(\"relu\")(x)\n",
        "    x = layers.GlobalAveragePooling2D()(x)\n",
        "    if num_classes == 2:\n",
        "        activation = \"sigmoid\"\n",
        "        units = 1\n",
        "    else:\n",
        "        activation = \"softmax\"\n",
        "        units = num_classes\n",
        "\n",
        "    x = layers.Dropout(0.5)(x)\n",
        "    outputs = layers.Dense(units, activation=activation)(x)\n",
        "    return keras.Model(inputs, outputs)\n",
        "# For 3 classes\n",
        "model_3_classes = make_model(input_shape=image_size + (3,), num_classes=3)"
      ]
    },
    {
      "cell_type": "code",
      "execution_count": 5,
      "metadata": {
        "colab": {
          "base_uri": "https://localhost:8080/"
        },
        "id": "IL4aggShAJyN",
        "outputId": "a48f6314-90ca-49c7-cc7a-e69508b10b1f"
      },
      "outputs": [
        {
          "name": "stdout",
          "output_type": "stream",
          "text": [
            "Epoch 1/10\n",
            "130/130 [==============================] - 476s 3s/step - loss: 0.0369 - accuracy: 0.9826 - val_loss: 2.2533 - val_accuracy: 0.3736\n",
            "Epoch 2/10\n",
            "130/130 [==============================] - 35s 267ms/step - loss: 0.0179 - accuracy: 0.9942 - val_loss: 4.8975 - val_accuracy: 0.3736\n",
            "Epoch 3/10\n",
            "130/130 [==============================] - 36s 272ms/step - loss: 0.0075 - accuracy: 0.9971 - val_loss: 7.7029 - val_accuracy: 0.3736\n",
            "Epoch 4/10\n",
            "130/130 [==============================] - 37s 277ms/step - loss: 3.7191e-05 - accuracy: 1.0000 - val_loss: 7.1723 - val_accuracy: 0.3736\n",
            "Epoch 5/10\n",
            "130/130 [==============================] - 38s 285ms/step - loss: 3.2420e-05 - accuracy: 1.0000 - val_loss: 0.8264 - val_accuracy: 0.6766\n",
            "Epoch 6/10\n",
            "130/130 [==============================] - 37s 284ms/step - loss: 4.0592e-05 - accuracy: 1.0000 - val_loss: 1.0080e-04 - val_accuracy: 1.0000\n",
            "Epoch 7/10\n",
            "130/130 [==============================] - 38s 288ms/step - loss: 2.4032e-04 - accuracy: 1.0000 - val_loss: 0.0492 - val_accuracy: 0.9788\n",
            "Epoch 8/10\n",
            "130/130 [==============================] - 38s 288ms/step - loss: 0.0035 - accuracy: 0.9998 - val_loss: 0.5180 - val_accuracy: 0.7915\n",
            "Epoch 9/10\n",
            "130/130 [==============================] - 38s 287ms/step - loss: 3.0636e-05 - accuracy: 1.0000 - val_loss: 3.1923e-06 - val_accuracy: 1.0000\n",
            "Epoch 10/10\n",
            "130/130 [==============================] - 38s 289ms/step - loss: 0.0023 - accuracy: 0.9993 - val_loss: 28.1252 - val_accuracy: 0.3079\n"
          ]
        }
      ],
      "source": [
        "epochs = 10\n",
        "callbacks = [\n",
        "    keras.callbacks.ModelCheckpoint(\"save_at_{epoch}.keras\"),\n",
        "]\n",
        "model_3_classes.compile(\n",
        "    optimizer=keras.optimizers.Adam(1e-3),\n",
        "    loss=\"sparse_categorical_crossentropy\",\n",
        "    metrics=[\"accuracy\"],\n",
        ")\n",
        "history = model_3_classes.fit(\n",
        "    train_ds,\n",
        "    epochs=epochs,\n",
        "    callbacks=callbacks,\n",
        "    validation_data=val_ds,\n",
        ")"
      ]
    },
    {
      "cell_type": "code",
      "execution_count": 6,
      "metadata": {
        "id": "TjH5iZf28ym9"
      },
      "outputs": [],
      "source": [
        "acc = history.history['accuracy']\n",
        "val_acc = history.history['val_accuracy']\n",
        "loss = history.history['loss']\n",
        "val_loss = history.history['val_loss']"
      ]
    },
    {
      "cell_type": "code",
      "execution_count": 7,
      "metadata": {
        "colab": {
          "base_uri": "https://localhost:8080/"
        },
        "id": "vM9z2z_eiLWL",
        "outputId": "f5bbafef-4727-406c-d47d-33b81187b7b0"
      },
      "outputs": [
        {
          "name": "stdout",
          "output_type": "stream",
          "text": [
            "1/1 [==============================] - 0s 306ms/step\n",
            "1/1 [==============================] - 0s 33ms/step\n",
            "1/1 [==============================] - 0s 26ms/step\n",
            "1/1 [==============================] - 0s 30ms/step\n",
            "1/1 [==============================] - 0s 29ms/step\n",
            "1/1 [==============================] - 0s 33ms/step\n",
            "1/1 [==============================] - 0s 31ms/step\n",
            "1/1 [==============================] - 0s 26ms/step\n",
            "1/1 [==============================] - 0s 26ms/step\n",
            "1/1 [==============================] - 0s 25ms/step\n",
            "1/1 [==============================] - 0s 31ms/step\n",
            "1/1 [==============================] - 0s 39ms/step\n",
            "1/1 [==============================] - 0s 49ms/step\n",
            "1/1 [==============================] - 0s 35ms/step\n",
            "1/1 [==============================] - 0s 43ms/step\n",
            "1/1 [==============================] - 0s 57ms/step\n",
            "1/1 [==============================] - 0s 43ms/step\n",
            "1/1 [==============================] - 0s 42ms/step\n",
            "1/1 [==============================] - 0s 62ms/step\n",
            "1/1 [==============================] - 0s 52ms/step\n",
            "1/1 [==============================] - 0s 71ms/step\n",
            "1/1 [==============================] - 0s 75ms/step\n",
            "1/1 [==============================] - 0s 39ms/step\n",
            "1/1 [==============================] - 0s 39ms/step\n",
            "1/1 [==============================] - 0s 35ms/step\n",
            "1/1 [==============================] - 0s 34ms/step\n",
            "1/1 [==============================] - 0s 24ms/step\n",
            "1/1 [==============================] - 0s 28ms/step\n",
            "1/1 [==============================] - 0s 26ms/step\n",
            "1/1 [==============================] - 0s 25ms/step\n",
            "1/1 [==============================] - 0s 25ms/step\n",
            "1/1 [==============================] - 0s 26ms/step\n",
            "1/1 [==============================] - 0s 222ms/step\n"
          ]
        }
      ],
      "source": [
        "import numpy as np\n",
        "y_true = []\n",
        "y_pred = []\n",
        "for x_batch, y_batch in val_ds:\n",
        "    y_pred_batch = model_3_classes.predict(x_batch)\n",
        "    y_pred_batch = np.argmax(y_pred_batch, axis=1)\n",
        "    y_pred.extend(y_pred_batch)\n",
        "    y_true.extend(y_batch.numpy())"
      ]
    },
    {
      "cell_type": "code",
      "execution_count": 14,
      "metadata": {
        "colab": {
          "base_uri": "https://localhost:8080/",
          "height": 694
        },
        "id": "NjWQoeGEiQf4",
        "outputId": "4e16429d-94a9-49d1-858b-8be910c8d778"
      },
      "outputs": [
        {
          "data": {
            "image/png": "[encoded data removed]",
            "text/plain": [
              "<Figure size 432x288 with 2 Axes>"
            ]
          },
          "metadata": {
            "needs_background": "light"
          },
          "output_type": "display_data"
        },
        {
          "data": {
            "image/png": "[encoded data removed]",
            "text/plain": [
              "<Figure size 504x504 with 1 Axes>"
            ]
          },
          "metadata": {
            "needs_background": "light"
          },
          "output_type": "display_data"
        }
      ],
      "source": [
        "import matplotlib.pyplot as plt\n",
        "import seaborn as sns\n",
        "from sklearn.metrics import confusion_matrix\n",
        "cm = confusion_matrix(y_true, y_pred)\n",
        "plt.figure(figsize=(7,7))\n",
        "sns.heatmap(cm, annot=True, fmt='d', cmap='YlGnBu')\n",
        "plt.xlabel('Predicted')\n",
        "plt.ylabel('True')\n",
        "plt.show()"
      ]
    },
    {
      "cell_type": "code",
      "execution_count": 12,
      "metadata": {
        "colab": {
          "base_uri": "https://localhost:8080/"
        },
        "id": "MriyMi5TiULU",
        "outputId": "691896dd-161b-48f8-885b-bfe873008100"
      },
      "outputs": [
        {
          "name": "stdout",
          "output_type": "stream",
          "text": [
            "Precision:  0.09481168289083347\n",
            "Recall:  0.3079150579150579\n",
            "F1 Score:  0.14498140734303094\n"
          ]
        },
        {
          "name": "stderr",
          "output_type": "stream",
          "text": [
            "/usr/local/lib/python3.8/dist-packages/sklearn/metrics/_classification.py:1318: UndefinedMetricWarning: Precision and F-score are ill-defined and being set to 0.0 in labels with no predicted samples. Use `zero_division` parameter to control this behavior.\n",
            "  _warn_prf(average, modifier, msg_start, len(result))\n"
          ]
        }
      ],
      "source": [
        "from sklearn.metrics import precision_recall_fscore_support\n",
        "precision, recall, f1_score, _ = precision_recall_fscore_support(y_true, y_pred, average='weighted')\n",
        "print(\"Precision: \", precision)\n",
        "print(\"Recall: \", recall)\n",
        "print(\"F1 Score: \", f1_score)"
      ]
    },
    {
      "cell_type": "code",
      "execution_count": 13,
      "metadata": {
        "colab": {
          "base_uri": "https://localhost:8080/"
        },
        "id": "je2SEUyIiXum",
        "outputId": "4a92721a-ece4-405d-c41e-a7a20b9d9ca2"
      },
      "outputs": [
        {
          "name": "stdout",
          "output_type": "stream",
          "text": [
            "1/1 [==============================] - 1s 510ms/step\n",
            "The image belongs to the class: 0 (Major)\n"
          ]
        }
      ],
      "source": [
        "img = keras.preprocessing.image.load_img('/content/drive/MyDrive/Colab Notebooks/hector/3 categories/Major/PB01-1-01-02-N-02.jpg', target_size=image_size)\n",
        "img_array = keras.preprocessing.image.img_to_array(img)\n",
        "# Reshape the image so it has the same shape as the input to the model\n",
        "img_array = img_array.reshape(1, *img_array.shape)\n",
        "# Normalize the image by dividing by 255\n",
        "img_array = img_array / 255.0\n",
        "predictions = model_3_classes.predict(img_array)\n",
        "# Get the class with the highest probability\n",
        "predicted_class = np.argmax(predictions)\n",
        "# Get the class labels from the train_ds\n",
        "class_labels = train_ds.class_names\n",
        "# Map the class label to the predicted class\n",
        "predicted_category_name = class_labels[predicted_class]\n",
        "\n",
        "print(f\"The image belongs to the class: {predicted_class} ({predicted_category_name})\")"
      ]
    },
    {
      "cell_type": "code",
      "execution_count": null,
      "metadata": {
        "id": "USJiiyaPeqBA"
      },
      "outputs": [],
      "source": []
    }
  ],
  "metadata": {
    "accelerator": "GPU",
    "colab": {
      "provenance": []
    },
    "gpuClass": "standard",
    "kernelspec": {
      "display_name": "Python 3",
      "language": "python",
      "name": "python3"
    },
    "language_info": {
      "name": "python",
      "version": "3.10.8"
    },
    "vscode": {
      "interpreter": {
        "hash": "aee8b7b246df8f9039afb4144a1f6fd8d2ca17a180786b69acc140d282b71a49"
      }
    }
  },
  "nbformat": 4,
  "nbformat_minor": 0
}
