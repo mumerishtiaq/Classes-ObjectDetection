{
  "nbformat": 4,
  "nbformat_minor": 0,
  "metadata": {
    "colab": {
      "provenance": []
    },
    "kernelspec": {
      "name": "python3",
      "display_name": "Python 3"
    },
    "language_info": {
      "name": "python"
    },
    "accelerator": "GPU",
    "gpuClass": "standard"
  },
  "cells": [
    {
      "cell_type": "code",
      "execution_count": 16,
      "metadata": {
        "colab": {
          "base_uri": "https://localhost:8080/"
        },
        "id": "nPOJ7bAiFZvS",
        "outputId": "ad0cee18-7ee0-469b-e701-5b0539ff923c"
      },
      "outputs": [
        {
          "output_type": "stream",
          "name": "stdout",
          "text": [
            "Drive already mounted at /content/drive; to attempt to forcibly remount, call drive.mount(\"/content/drive\", force_remount=True).\n"
          ]
        }
      ],
      "source": [
        "# Load the Drive helper and mount\n",
        "from google.colab import drive\n",
        "drive.mount('/content/drive')"
      ]
    },
    {
      "cell_type": "code",
      "source": [
        "import tensorflow as tf\n",
        "from tensorflow import keras\n",
        "from tensorflow.keras import layers\n",
        "import numpy as np"
      ],
      "metadata": {
        "id": "Ley_9C2jFdq9"
      },
      "execution_count": 17,
      "outputs": []
    },
    {
      "cell_type": "code",
      "source": [
        "# Create train and validation datasets\n",
        "path = '/content/drive/MyDrive/Colab Notebooks/hector/3 categories'\n",
        "image_size=(180, 150)\n",
        "batch_size=32\n",
        "\n",
        "train_ds = tf.keras.preprocessing.image_dataset_from_directory(\n",
        "  path,\n",
        "  validation_split=0.2,\n",
        "  subset=\"training\",\n",
        "  seed=1337,\n",
        "  image_size=image_size,\n",
        "  batch_size=batch_size)\n",
        "\n",
        "val_ds = tf.keras.preprocessing.image_dataset_from_directory(\n",
        "  path,\n",
        "  validation_split=0.2,\n",
        "  subset=\"validation\",\n",
        "  seed=1337,\n",
        "  image_size=image_size,\n",
        "  batch_size=batch_size)"
      ],
      "metadata": {
        "colab": {
          "base_uri": "https://localhost:8080/"
        },
        "id": "CkSGqSdU_5wS",
        "outputId": "a3818359-23d4-445f-a249-b58732b7ade8"
      },
      "execution_count": 18,
      "outputs": [
        {
          "output_type": "stream",
          "name": "stdout",
          "text": [
            "Found 5182 files belonging to 3 classes.\n",
            "Using 4146 files for training.\n",
            "Found 5182 files belonging to 3 classes.\n",
            "Using 1036 files for validation.\n"
          ]
        }
      ]
    },
    {
      "cell_type": "code",
      "source": [
        "def make_model(input_shape, num_classes):\n",
        "    inputs = keras.Input(shape=input_shape)\n",
        "\n",
        "    # Entry block\n",
        "    x = tf.keras.layers.experimental.preprocessing.Rescaling(1.0 / 255)(inputs)\n",
        "    x = layers.Conv2D(128, 3, strides=2, padding=\"same\")(x)\n",
        "    x = layers.BatchNormalization()(x)\n",
        "    x = layers.Activation(\"relu\")(x)\n",
        "    previous_block_activation = x  # Set aside residual\n",
        "    for size in [256, 512, 728]:\n",
        "        x = layers.Activation(\"relu\")(x)\n",
        "        x = layers.SeparableConv2D(size, 3, padding=\"same\")(x)\n",
        "        x = layers.BatchNormalization()(x)\n",
        "\n",
        "        x = layers.Activation(\"relu\")(x)\n",
        "        x = layers.SeparableConv2D(size, 3, padding=\"same\")(x)\n",
        "        x = layers.BatchNormalization()(x)\n",
        "\n",
        "        x = layers.MaxPooling2D(3, strides=2, padding=\"same\")(x)\n",
        "\n",
        "        # Project residual\n",
        "        residual = layers.Conv2D(size, 1, strides=2, padding=\"same\")(\n",
        "            previous_block_activation\n",
        "        )\n",
        "        x = layers.add([x, residual])  # Add back residual\n",
        "        previous_block_activation = x  # Set aside next residual\n",
        "\n",
        "    x = layers.SeparableConv2D(1024, 3, padding=\"same\")(x)\n",
        "    x = layers.BatchNormalization()(x)\n",
        "    x = layers.Activation(\"relu\")(x)\n",
        "\n",
        "    x = layers.GlobalAveragePooling2D()(x)\n",
        "    if num_classes == 2:\n",
        "        activation = \"sigmoid\"\n",
        "        units = 1\n",
        "    else:\n",
        "        activation = \"softmax\"\n",
        "        units = num_classes\n",
        "\n",
        "    x = layers.Dropout(0.5)(x)\n",
        "    outputs = layers.Dense(units, activation=activation)(x)\n",
        "    return keras.Model(inputs, outputs)\n",
        "# For 3 classes\n",
        "model_3_classes = make_model(input_shape=image_size + (3,), num_classes=3)"
      ],
      "metadata": {
        "id": "7WUk_17W_60N"
      },
      "execution_count": 19,
      "outputs": []
    },
    {
      "cell_type": "code",
      "source": [
        "from sklearn.utils import class_weight\n",
        "# Extract the labels from training data\n",
        "train_labels = []\n",
        "for images, labels in train_ds:\n",
        "    train_labels.extend(labels.numpy().tolist())"
      ],
      "metadata": {
        "id": "MWmrfSb46A1E"
      },
      "execution_count": 20,
      "outputs": []
    },
    {
      "cell_type": "code",
      "source": [
        "# Compute class weights\n",
        "y = train_labels\n",
        "from sklearn.utils import class_weight\n",
        "class_weights=class_weight.compute_class_weight(class_weight='balanced',classes=np.unique(y),y=y)\n",
        "# Convert the class weights from an array to a dictionary\n",
        "class_weights = dict(enumerate(class_weights))"
      ],
      "metadata": {
        "id": "Jll_OtSC8xwX"
      },
      "execution_count": 34,
      "outputs": []
    },
    {
      "cell_type": "code",
      "source": [
        "epochs = 10\n",
        "callbacks = [\n",
        "    keras.callbacks.ModelCheckpoint(\"save_at_{epoch}.keras\"),\n",
        "]\n",
        "model_3_classes.compile(\n",
        "    optimizer=keras.optimizers.Adam(1e-3),\n",
        "    loss=\"sparse_categorical_crossentropy\",\n",
        "    metrics=[\"accuracy\"],\n",
        ")\n",
        "history = model_3_classes.fit(\n",
        "    train_ds,\n",
        "    epochs=epochs,\n",
        "    callbacks=callbacks,\n",
        "    validation_data=val_ds,\n",
        "    class_weight=class_weights\n",
        ")\n"
      ],
      "metadata": {
        "id": "RynYR3pVffxb",
        "colab": {
          "base_uri": "https://localhost:8080/"
        },
        "outputId": "2a71dfc9-f8f8-4b42-ab59-7e22c0775527"
      },
      "execution_count": 35,
      "outputs": [
        {
          "output_type": "stream",
          "name": "stdout",
          "text": [
            "Epoch 1/10\n",
            "130/130 [==============================] - 45s 283ms/step - loss: 0.0052 - accuracy: 0.9983 - val_loss: 1.4081 - val_accuracy: 0.3736\n",
            "Epoch 2/10\n",
            "130/130 [==============================] - 39s 299ms/step - loss: 0.0011 - accuracy: 0.9993 - val_loss: 1.1700 - val_accuracy: 0.5512\n",
            "Epoch 3/10\n",
            "130/130 [==============================] - 36s 277ms/step - loss: 3.1017e-04 - accuracy: 0.9998 - val_loss: 0.0024 - val_accuracy: 1.0000\n",
            "Epoch 4/10\n",
            "130/130 [==============================] - 37s 281ms/step - loss: 4.6429e-05 - accuracy: 1.0000 - val_loss: 8.2192e-06 - val_accuracy: 1.0000\n",
            "Epoch 5/10\n",
            "130/130 [==============================] - 37s 280ms/step - loss: 2.4059e-06 - accuracy: 1.0000 - val_loss: 3.0837e-07 - val_accuracy: 1.0000\n",
            "Epoch 6/10\n",
            "130/130 [==============================] - 39s 296ms/step - loss: 2.4914e-06 - accuracy: 1.0000 - val_loss: 1.0482e-07 - val_accuracy: 1.0000\n",
            "Epoch 7/10\n",
            "130/130 [==============================] - 37s 278ms/step - loss: 3.2964e-06 - accuracy: 1.0000 - val_loss: 7.9165e-08 - val_accuracy: 1.0000\n",
            "Epoch 8/10\n",
            "130/130 [==============================] - 37s 279ms/step - loss: 1.7765e-06 - accuracy: 1.0000 - val_loss: 6.5933e-08 - val_accuracy: 1.0000\n",
            "Epoch 9/10\n",
            "130/130 [==============================] - 37s 279ms/step - loss: 2.2440e-06 - accuracy: 1.0000 - val_loss: 6.6968e-08 - val_accuracy: 1.0000\n",
            "Epoch 10/10\n",
            "130/130 [==============================] - 36s 278ms/step - loss: 2.7483e-06 - accuracy: 1.0000 - val_loss: 4.3955e-08 - val_accuracy: 1.0000\n"
          ]
        }
      ]
    },
    {
      "cell_type": "code",
      "source": [
        "acc = history.history['accuracy']\n",
        "val_acc = history.history['val_accuracy']\n",
        "loss = history.history['loss']\n",
        "val_loss = history.history['val_loss']"
      ],
      "metadata": {
        "id": "aJ-TrbhnGv30"
      },
      "execution_count": 36,
      "outputs": []
    },
    {
      "cell_type": "code",
      "source": [
        "y_true = []\n",
        "y_pred = []\n",
        "for x_batch, y_batch in val_ds:\n",
        "    y_pred_batch = model_3_classes.predict(x_batch)\n",
        "    y_pred_batch = np.argmax(y_pred_batch, axis=1)\n",
        "    y_pred.extend(y_pred_batch)\n",
        "    y_true.extend(y_batch.numpy())"
      ],
      "metadata": {
        "id": "DygcsySNGv72",
        "colab": {
          "base_uri": "https://localhost:8080/"
        },
        "outputId": "4b12d5d9-a864-4a0d-9669-58f008233de1"
      },
      "execution_count": 37,
      "outputs": [
        {
          "output_type": "stream",
          "name": "stdout",
          "text": [
            "1/1 [==============================] - 0s 236ms/step\n",
            "1/1 [==============================] - 0s 27ms/step\n",
            "1/1 [==============================] - 0s 34ms/step\n",
            "1/1 [==============================] - 0s 40ms/step\n",
            "1/1 [==============================] - 0s 30ms/step\n",
            "1/1 [==============================] - 0s 43ms/step\n",
            "1/1 [==============================] - 0s 31ms/step\n",
            "1/1 [==============================] - 0s 38ms/step\n",
            "1/1 [==============================] - 0s 62ms/step\n",
            "1/1 [==============================] - 0s 41ms/step\n",
            "1/1 [==============================] - 0s 44ms/step\n",
            "1/1 [==============================] - 0s 59ms/step\n",
            "1/1 [==============================] - 0s 56ms/step\n",
            "1/1 [==============================] - 0s 33ms/step\n",
            "1/1 [==============================] - 0s 38ms/step\n",
            "1/1 [==============================] - 0s 39ms/step\n",
            "1/1 [==============================] - 0s 39ms/step\n",
            "1/1 [==============================] - 0s 35ms/step\n",
            "1/1 [==============================] - 0s 45ms/step\n",
            "1/1 [==============================] - 0s 34ms/step\n",
            "1/1 [==============================] - 0s 42ms/step\n",
            "1/1 [==============================] - 0s 56ms/step\n",
            "1/1 [==============================] - 0s 24ms/step\n",
            "1/1 [==============================] - 0s 25ms/step\n",
            "1/1 [==============================] - 0s 27ms/step\n",
            "1/1 [==============================] - 0s 26ms/step\n",
            "1/1 [==============================] - 0s 27ms/step\n",
            "1/1 [==============================] - 0s 28ms/step\n",
            "1/1 [==============================] - 0s 23ms/step\n",
            "1/1 [==============================] - 0s 24ms/step\n",
            "1/1 [==============================] - 0s 29ms/step\n",
            "1/1 [==============================] - 0s 27ms/step\n",
            "1/1 [==============================] - 0s 230ms/step\n"
          ]
        }
      ]
    },
    {
      "cell_type": "code",
      "source": [
        "import matplotlib.pyplot as plt\n",
        "import seaborn as sns\n",
        "from sklearn.metrics import confusion_matrix\n",
        "cm = confusion_matrix(y_true, y_pred)\n",
        "plt.figure(figsize=(7,7))\n",
        "sns.heatmap(cm, annot=True, fmt='d', cmap='YlGnBu')\n",
        "plt.xlabel('Predicted')\n",
        "plt.ylabel('True')\n",
        "plt.show()"
      ],
      "metadata": {
        "id": "bXCZh_sKQ-Oh",
        "colab": {
          "base_uri": "https://localhost:8080/",
          "height": 442
        },
        "outputId": "e76c7d74-170a-4a3a-f420-a0dbc34ce4c2"
      },
      "execution_count": 38,
      "outputs": [
        {
          "output_type": "display_data",
          "data": {
            "text/plain": [
              "<Figure size 504x504 with 2 Axes>"
            ],
            "image/png": "[encoded data removed]"
          },
          "metadata": {
            "needs_background": "light"
          }
        }
      ]
    },
    {
      "cell_type": "code",
      "source": [
        "from sklearn.metrics import precision_recall_fscore_support\n",
        "precision, recall, f1_score, _ = precision_recall_fscore_support(y_true, y_pred, average='weighted')\n",
        "print(\"Precision: \", precision)\n",
        "print(\"Recall: \", recall)\n",
        "print(\"F1 Score: \", f1_score)"
      ],
      "metadata": {
        "id": "k5FXItaJRKc0",
        "colab": {
          "base_uri": "https://localhost:8080/"
        },
        "outputId": "2d48da1d-97c3-4546-e2af-4abe95472354"
      },
      "execution_count": 39,
      "outputs": [
        {
          "output_type": "stream",
          "name": "stdout",
          "text": [
            "Precision:  1.0\n",
            "Recall:  1.0\n",
            "F1 Score:  1.0\n"
          ]
        }
      ]
    },
    {
      "cell_type": "code",
      "source": [
        "img = keras.preprocessing.image.load_img('/content/drive/MyDrive/Colab Notebooks/hector/3 categories/Major/PB01-1-01-02-N-02.jpg', target_size=image_size)\n",
        "img_array = keras.preprocessing.image.img_to_array(img)\n",
        "# Reshape the image so it has the same shape as the input to the model\n",
        "img_array = img_array.reshape(1, *img_array.shape)\n",
        "# Normalize the image by dividing by 255\n",
        "img_array = img_array / 255.0\n",
        "predictions = model_3_classes.predict(img_array)\n",
        "# Get the class with the highest probability\n",
        "predicted_class = np.argmax(predictions)\n",
        "# Get the class labels from the train_ds\n",
        "class_labels = train_ds.class_names\n",
        "# Map the class label to the predicted class\n",
        "predicted_category = class_labels[predicted_class]\n",
        "\n",
        "print(f\"The image belongs to the class: {predicted_class} ({predicted_category})\")"
      ],
      "metadata": {
        "id": "05iWE-dXRKuP",
        "colab": {
          "base_uri": "https://localhost:8080/"
        },
        "outputId": "87dc9aad-ef30-47de-a42e-2aa559f22155"
      },
      "execution_count": 40,
      "outputs": [
        {
          "output_type": "stream",
          "name": "stdout",
          "text": [
            "1/1 [==============================] - 0s 22ms/step\n",
            "The image belongs to the class: 2 (Minor)\n"
          ]
        }
      ]
    },
    {
      "cell_type": "code",
      "source": [],
      "metadata": {
        "id": "gesLPZmteeAU"
      },
      "execution_count": null,
      "outputs": []
    }
  ]
}