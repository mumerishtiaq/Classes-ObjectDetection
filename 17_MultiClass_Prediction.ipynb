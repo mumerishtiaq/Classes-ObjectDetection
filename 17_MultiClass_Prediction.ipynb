{
  "nbformat": 4,
  "nbformat_minor": 0,
  "metadata": {
    "colab": {
      "provenance": []
    },
    "kernelspec": {
      "name": "python3",
      "display_name": "Python 3"
    },
    "language_info": {
      "name": "python"
    },
    "accelerator": "GPU",
    "gpuClass": "standard"
  },
  "cells": [
    {
      "cell_type": "code",
      "execution_count": 2,
      "metadata": {
        "colab": {
          "base_uri": "https://localhost:8080/"
        },
        "id": "WKIMzrqLnjBq",
        "outputId": "af66603b-357e-426a-d185-f810c74b2996"
      },
      "outputs": [
        {
          "output_type": "stream",
          "name": "stdout",
          "text": [
            "Mounted at /content/drive\n"
          ]
        }
      ],
      "source": [
        "# Load the Drive helper and mount\n",
        "from google.colab import drive\n",
        "drive.mount('/content/drive')"
      ]
    },
    {
      "cell_type": "markdown",
      "source": [
        "**Model with 17 classes**"
      ],
      "metadata": {
        "id": "LlDbxhemHcg8"
      }
    },
    {
      "cell_type": "code",
      "source": [
        "import tensorflow as tf\n",
        "from tensorflow import keras\n",
        "from tensorflow.keras import layers"
      ],
      "metadata": {
        "id": "iMC5T70VqqGa"
      },
      "execution_count": 3,
      "outputs": []
    },
    {
      "cell_type": "code",
      "source": [
        "path = '/content/drive/MyDrive/Colab Notebooks/hector/17 classes'"
      ],
      "metadata": {
        "id": "Pjg0Jmlepp7U"
      },
      "execution_count": 4,
      "outputs": []
    },
    {
      "cell_type": "code",
      "source": [
        "image_size=(180, 150)\n",
        "batch_size=32\n",
        "\n",
        "train_ds = tf.keras.preprocessing.image_dataset_from_directory(\n",
        "  path,\n",
        "  validation_split=0.2,\n",
        "  subset=\"training\",\n",
        "  seed=1337,\n",
        "  image_size=image_size,\n",
        "  batch_size=batch_size)\n",
        "\n",
        "val_ds = tf.keras.preprocessing.image_dataset_from_directory(\n",
        "  path,\n",
        "  validation_split=0.2,\n",
        "  subset=\"validation\",\n",
        "  seed=1337,\n",
        "  image_size=image_size,\n",
        "  batch_size=batch_size)"
      ],
      "metadata": {
        "id": "0zZ9hqdXn1xA",
        "colab": {
          "base_uri": "https://localhost:8080/"
        },
        "outputId": "0db2218b-419a-4e83-ee61-d2dfc57abcae"
      },
      "execution_count": 5,
      "outputs": [
        {
          "output_type": "stream",
          "name": "stdout",
          "text": [
            "Found 5864 files belonging to 17 classes.\n",
            "Using 4692 files for training.\n",
            "Found 5864 files belonging to 17 classes.\n",
            "Using 1172 files for validation.\n"
          ]
        }
      ]
    },
    {
      "cell_type": "code",
      "source": [
        "def make_model(input_shape, num_classes):\n",
        "    inputs = keras.Input(shape=input_shape)\n",
        "    x = tf.keras.layers.experimental.preprocessing.Rescaling(1.0 / 255)(inputs)\n",
        "    x = layers.Conv2D(128, 3, strides=2, padding=\"same\")(x)\n",
        "    x = layers.BatchNormalization()(x)\n",
        "    x = layers.Activation(\"relu\")(x)\n",
        "\n",
        "    previous_block_activation = x  # Set aside residual\n",
        "\n",
        "    for size in [256, 512, 728]:\n",
        "        x = layers.Activation(\"relu\")(x)\n",
        "        x = layers.SeparableConv2D(size, 3, padding=\"same\")(x)\n",
        "        x = layers.BatchNormalization()(x)\n",
        "\n",
        "        x = layers.Activation(\"relu\")(x)\n",
        "        x = layers.SeparableConv2D(size, 3, padding=\"same\")(x)\n",
        "        x = layers.BatchNormalization()(x)\n",
        "\n",
        "        x = layers.MaxPooling2D(3, strides=2, padding=\"same\")(x)\n",
        "\n",
        "        residual = layers.Conv2D(size, 1, strides=2, padding=\"same\")(\n",
        "            previous_block_activation\n",
        "        )\n",
        "        x = layers.add([x, residual])  # Add back residual\n",
        "        previous_block_activation = x  # Set aside next residual\n",
        "\n",
        "    x = layers.SeparableConv2D(1024, 3, padding=\"same\")(x)\n",
        "    x = layers.BatchNormalization()(x)\n",
        "    x = layers.Activation(\"relu\")(x)\n",
        "\n",
        "    x = layers.GlobalAveragePooling2D()(x)\n",
        "    if num_classes == 2:\n",
        "        activation = \"sigmoid\"\n",
        "        units = 1\n",
        "    else:\n",
        "        activation = \"softmax\"\n",
        "        units = num_classes\n",
        "\n",
        "    x = layers.Dropout(0.5)(x)\n",
        "    outputs = layers.Dense(units, activation=activation)(x)\n",
        "    return keras.Model(inputs, outputs)\n",
        "\n",
        "# For 17 classes\n",
        "model_17_classes = make_model(input_shape=image_size + (3,), num_classes=17)"
      ],
      "metadata": {
        "id": "tvLyrQwDrLK0"
      },
      "execution_count": 6,
      "outputs": []
    },
    {
      "cell_type": "code",
      "source": [
        "epochs = 25\n",
        "\n",
        "callbacks = [\n",
        "    keras.callbacks.ModelCheckpoint(\"save_at_{epoch}.keras\"),\n",
        "]\n",
        "model_17_classes.compile(\n",
        "    optimizer=keras.optimizers.Adam(1e-3),\n",
        "    loss=\"sparse_categorical_crossentropy\",\n",
        "    metrics=[\"accuracy\"],\n",
        ")\n",
        "history = model_17_classes.fit(\n",
        "    train_ds,\n",
        "    epochs=epochs,\n",
        "    callbacks=callbacks,\n",
        "    validation_data=val_ds,\n",
        ")"
      ],
      "metadata": {
        "id": "QGtxxZxpq2r-",
        "colab": {
          "base_uri": "https://localhost:8080/"
        },
        "outputId": "ef299033-86c0-4ec3-af6a-92b8da88dc10"
      },
      "execution_count": 7,
      "outputs": [
        {
          "output_type": "stream",
          "name": "stdout",
          "text": [
            "Epoch 1/25\n",
            "147/147 [==============================] - 893s 6s/step - loss: 1.0882 - accuracy: 0.5993 - val_loss: 2.3698 - val_accuracy: 0.2253\n",
            "Epoch 2/25\n",
            "147/147 [==============================] - 41s 279ms/step - loss: 0.6668 - accuracy: 0.7737 - val_loss: 3.4256 - val_accuracy: 0.2253\n",
            "Epoch 3/25\n",
            "147/147 [==============================] - 43s 290ms/step - loss: 0.5975 - accuracy: 0.7928 - val_loss: 4.4321 - val_accuracy: 0.2253\n",
            "Epoch 4/25\n",
            "147/147 [==============================] - 45s 301ms/step - loss: 0.5238 - accuracy: 0.8173 - val_loss: 3.7755 - val_accuracy: 0.2312\n",
            "Epoch 5/25\n",
            "147/147 [==============================] - 43s 289ms/step - loss: 0.4643 - accuracy: 0.8370 - val_loss: 0.7777 - val_accuracy: 0.7449\n",
            "Epoch 6/25\n",
            "147/147 [==============================] - 43s 289ms/step - loss: 0.4465 - accuracy: 0.8461 - val_loss: 1.1457 - val_accuracy: 0.6954\n",
            "Epoch 7/25\n",
            "147/147 [==============================] - 43s 291ms/step - loss: 0.4091 - accuracy: 0.8534 - val_loss: 1.3462 - val_accuracy: 0.6553\n",
            "Epoch 8/25\n",
            "147/147 [==============================] - 43s 289ms/step - loss: 0.3848 - accuracy: 0.8549 - val_loss: 1.0358 - val_accuracy: 0.6886\n",
            "Epoch 9/25\n",
            "147/147 [==============================] - 43s 290ms/step - loss: 0.3600 - accuracy: 0.8672 - val_loss: 5.0057 - val_accuracy: 0.4164\n",
            "Epoch 10/25\n",
            "147/147 [==============================] - 43s 289ms/step - loss: 0.3484 - accuracy: 0.8659 - val_loss: 0.6803 - val_accuracy: 0.7713\n",
            "Epoch 11/25\n",
            "147/147 [==============================] - 43s 290ms/step - loss: 0.3303 - accuracy: 0.8753 - val_loss: 0.6718 - val_accuracy: 0.7662\n",
            "Epoch 12/25\n",
            "147/147 [==============================] - 43s 288ms/step - loss: 0.3153 - accuracy: 0.8809 - val_loss: 6.1836 - val_accuracy: 0.3029\n",
            "Epoch 13/25\n",
            "147/147 [==============================] - 43s 292ms/step - loss: 0.3088 - accuracy: 0.8836 - val_loss: 1.2843 - val_accuracy: 0.7159\n",
            "Epoch 14/25\n",
            "147/147 [==============================] - 45s 303ms/step - loss: 0.2959 - accuracy: 0.8900 - val_loss: 1.7024 - val_accuracy: 0.5836\n",
            "Epoch 15/25\n",
            "147/147 [==============================] - 45s 303ms/step - loss: 0.2796 - accuracy: 0.8926 - val_loss: 0.6523 - val_accuracy: 0.7654\n",
            "Epoch 16/25\n",
            "147/147 [==============================] - 43s 288ms/step - loss: 0.2753 - accuracy: 0.8896 - val_loss: 0.6039 - val_accuracy: 0.8166\n",
            "Epoch 17/25\n",
            "147/147 [==============================] - 43s 289ms/step - loss: 0.2386 - accuracy: 0.9079 - val_loss: 0.9599 - val_accuracy: 0.7218\n",
            "Epoch 18/25\n",
            "147/147 [==============================] - 45s 303ms/step - loss: 0.2391 - accuracy: 0.9039 - val_loss: 1.1400 - val_accuracy: 0.6886\n",
            "Epoch 19/25\n",
            "147/147 [==============================] - 43s 288ms/step - loss: 0.2362 - accuracy: 0.9084 - val_loss: 0.5311 - val_accuracy: 0.8200\n",
            "Epoch 20/25\n",
            "147/147 [==============================] - 43s 289ms/step - loss: 0.2282 - accuracy: 0.9118 - val_loss: 1.0193 - val_accuracy: 0.7159\n",
            "Epoch 21/25\n",
            "147/147 [==============================] - 43s 289ms/step - loss: 0.2191 - accuracy: 0.9113 - val_loss: 0.9818 - val_accuracy: 0.7782\n",
            "Epoch 22/25\n",
            "147/147 [==============================] - 45s 301ms/step - loss: 0.1787 - accuracy: 0.9280 - val_loss: 1.3943 - val_accuracy: 0.6169\n",
            "Epoch 23/25\n",
            "147/147 [==============================] - 43s 290ms/step - loss: 0.1767 - accuracy: 0.9320 - val_loss: 0.8636 - val_accuracy: 0.7526\n",
            "Epoch 24/25\n",
            "147/147 [==============================] - 43s 289ms/step - loss: 0.1602 - accuracy: 0.9390 - val_loss: 1.5294 - val_accuracy: 0.6596\n",
            "Epoch 25/25\n",
            "147/147 [==============================] - 45s 303ms/step - loss: 0.1653 - accuracy: 0.9380 - val_loss: 1.8871 - val_accuracy: 0.5811\n"
          ]
        }
      ]
    },
    {
      "cell_type": "code",
      "source": [
        "acc = history.history['accuracy']\n",
        "val_acc = history.history['val_accuracy']\n",
        "loss = history.history['loss']\n",
        "val_loss = history.history['val_loss']"
      ],
      "metadata": {
        "id": "zlfdblG048jC"
      },
      "execution_count": 8,
      "outputs": []
    },
    {
      "cell_type": "code",
      "source": [
        "import numpy as np\n",
        "y_true = []\n",
        "y_pred = []\n",
        "for x_batch, y_batch in val_ds:\n",
        "    y_pred_batch = model_17_classes.predict(x_batch)\n",
        "    y_pred_batch = np.argmax(y_pred_batch, axis=1)\n",
        "    y_pred.extend(y_pred_batch)\n",
        "    y_true.extend(y_batch.numpy())"
      ],
      "metadata": {
        "id": "VrATkXiapQ2g",
        "colab": {
          "base_uri": "https://localhost:8080/"
        },
        "outputId": "cb48f444-7c2c-4fb6-9e4b-8f48102bcda5"
      },
      "execution_count": 9,
      "outputs": [
        {
          "output_type": "stream",
          "name": "stdout",
          "text": [
            "1/1 [==============================] - 0s 380ms/step\n",
            "1/1 [==============================] - 0s 50ms/step\n",
            "1/1 [==============================] - 0s 28ms/step\n",
            "1/1 [==============================] - 0s 36ms/step\n",
            "1/1 [==============================] - 0s 38ms/step\n",
            "1/1 [==============================] - 0s 27ms/step\n",
            "1/1 [==============================] - 0s 37ms/step\n",
            "1/1 [==============================] - 0s 34ms/step\n",
            "1/1 [==============================] - 0s 28ms/step\n",
            "1/1 [==============================] - 0s 26ms/step\n",
            "1/1 [==============================] - 0s 35ms/step\n",
            "1/1 [==============================] - 0s 38ms/step\n",
            "1/1 [==============================] - 0s 24ms/step\n",
            "1/1 [==============================] - 0s 29ms/step\n",
            "1/1 [==============================] - 0s 30ms/step\n",
            "1/1 [==============================] - 0s 25ms/step\n",
            "1/1 [==============================] - 0s 33ms/step\n",
            "1/1 [==============================] - 0s 25ms/step\n",
            "1/1 [==============================] - 0s 31ms/step\n",
            "1/1 [==============================] - 0s 28ms/step\n",
            "1/1 [==============================] - 0s 25ms/step\n",
            "1/1 [==============================] - 0s 26ms/step\n",
            "1/1 [==============================] - 0s 30ms/step\n",
            "1/1 [==============================] - 0s 29ms/step\n",
            "1/1 [==============================] - 0s 27ms/step\n",
            "1/1 [==============================] - 0s 33ms/step\n",
            "1/1 [==============================] - 0s 24ms/step\n",
            "1/1 [==============================] - 0s 25ms/step\n",
            "1/1 [==============================] - 0s 24ms/step\n",
            "1/1 [==============================] - 0s 26ms/step\n",
            "1/1 [==============================] - 0s 25ms/step\n",
            "1/1 [==============================] - 0s 24ms/step\n",
            "1/1 [==============================] - 0s 27ms/step\n",
            "1/1 [==============================] - 0s 27ms/step\n",
            "1/1 [==============================] - 0s 28ms/step\n",
            "1/1 [==============================] - 0s 27ms/step\n",
            "1/1 [==============================] - 0s 238ms/step\n"
          ]
        }
      ]
    },
    {
      "cell_type": "code",
      "source": [
        "import matplotlib.pyplot as plt\n",
        "import seaborn as sns\n",
        "from sklearn.metrics import confusion_matrix\n",
        "cm = confusion_matrix(y_true, y_pred)\n",
        "plt.figure(figsize=(10,8))\n",
        "sns.heatmap(cm, annot=True, fmt='d', cmap='YlGnBu')\n",
        "plt.xlabel('Predicted')\n",
        "plt.ylabel('True')\n",
        "plt.show()"
      ],
      "metadata": {
        "id": "8CwnGHPwpRDv",
        "colab": {
          "base_uri": "https://localhost:8080/",
          "height": 497
        },
        "outputId": "57475d65-bf04-4734-9498-b37ccf2bd462"
      },
      "execution_count": 11,
      "outputs": [
        {
          "output_type": "display_data",
          "data": {
            "text/plain": [
              "<Figure size 720x576 with 2 Axes>"
            ],
            "image/png": "[encoded data removed]"
          },
          "metadata": {
            "needs_background": "light"
          }
        }
      ]
    },
    {
      "cell_type": "code",
      "source": [
        "from sklearn.metrics import precision_recall_fscore_support\n",
        "precision, recall, f1_score, _ = precision_recall_fscore_support(y_true, y_pred, average='weighted')\n",
        "print(\"Precision: \", precision)\n",
        "print(\"Recall: \", recall)\n",
        "print(\"F1 Score: \", f1_score)"
      ],
      "metadata": {
        "id": "fbO_4vJeqDZa",
        "colab": {
          "base_uri": "https://localhost:8080/"
        },
        "outputId": "3f353d93-c412-4b74-b300-b8864eebcb8b"
      },
      "execution_count": 12,
      "outputs": [
        {
          "output_type": "stream",
          "name": "stdout",
          "text": [
            "Precision:  0.741165081648226\n",
            "Recall:  0.5810580204778157\n",
            "F1 Score:  0.5447129324714538\n"
          ]
        },
        {
          "output_type": "stream",
          "name": "stderr",
          "text": [
            "/usr/local/lib/python3.8/dist-packages/sklearn/metrics/_classification.py:1318: UndefinedMetricWarning: Precision and F-score are ill-defined and being set to 0.0 in labels with no predicted samples. Use `zero_division` parameter to control this behavior.\n",
            "  _warn_prf(average, modifier, msg_start, len(result))\n",
            "/usr/local/lib/python3.8/dist-packages/sklearn/metrics/_classification.py:1318: UndefinedMetricWarning: Recall and F-score are ill-defined and being set to 0.0 in labels with no true samples. Use `zero_division` parameter to control this behavior.\n",
            "  _warn_prf(average, modifier, msg_start, len(result))\n"
          ]
        }
      ]
    },
    {
      "cell_type": "code",
      "source": [
        "img = keras.preprocessing.image.load_img('/content/drive/MyDrive/Colab Notebooks/hector/17 classes/CALIBRATED/PB02-2-06-12-N-11.jpg', target_size=image_size)\n",
        "img_array = keras.preprocessing.image.img_to_array(img)\n",
        "# Reshape the image so it has the same shape as the input to the model\n",
        "img_array = img_array.reshape(1, *img_array.shape)\n",
        "# Normalize the image by dividing by 255\n",
        "img_array = img_array / 255.0\n",
        "predictions = model_17_classes.predict(img_array)\n",
        "# Get the class with the highest probability\n",
        "predicted_class = np.argmax(predictions)\n",
        "# Get the class labels from the train_ds\n",
        "class_labels = train_ds.class_names\n",
        "# Map the class label to the predicted class\n",
        "predicted_class_name = class_labels[predicted_class]\n",
        "\n",
        "print(f\"The image belongs to the class: {predicted_class} ({predicted_class_name})\")"
      ],
      "metadata": {
        "id": "Fs6-2RxiqH6S",
        "colab": {
          "base_uri": "https://localhost:8080/"
        },
        "outputId": "aca828ef-da53-48ba-f7dc-0b493f0947e5"
      },
      "execution_count": 13,
      "outputs": [
        {
          "output_type": "stream",
          "name": "stdout",
          "text": [
            "1/1 [==============================] - 1s 509ms/step\n",
            "The image belongs to the class: 6 (DBD)\n"
          ]
        }
      ]
    },
    {
      "cell_type": "code",
      "source": [],
      "metadata": {
        "id": "W9SmEq5SqH_T"
      },
      "execution_count": null,
      "outputs": []
    }
  ]
}